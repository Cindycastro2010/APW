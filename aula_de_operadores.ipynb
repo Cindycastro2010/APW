{
  "nbformat": 4,
  "nbformat_minor": 0,
  "metadata": {
    "colab": {
      "provenance": [],
      "authorship_tag": "ABX9TyM+ItNMDPe/zSVVuCteKpGz",
      "include_colab_link": true
    },
    "kernelspec": {
      "name": "python3",
      "display_name": "Python 3"
    },
    "language_info": {
      "name": "python"
    }
  },
  "cells": [
    {
      "cell_type": "markdown",
      "metadata": {
        "id": "view-in-github",
        "colab_type": "text"
      },
      "source": [
        "<a href=\"https://colab.research.google.com/github/Cindycastro2010/APW/blob/main/aula_de_operadores.ipynb\" target=\"_parent\"><img src=\"https://colab.research.google.com/assets/colab-badge.svg\" alt=\"Open In Colab\"/></a>"
      ]
    },
    {
      "cell_type": "markdown",
      "source": [
        "# Adição"
      ],
      "metadata": {
        "id": "vTebbmB-h1lL"
      }
    },
    {
      "cell_type": "code",
      "execution_count": 2,
      "metadata": {
        "colab": {
          "base_uri": "https://localhost:8080/"
        },
        "id": "UKq2GcjqdvpN",
        "outputId": "373577ac-4eaa-4d6c-f571-590160b62608"
      },
      "outputs": [
        {
          "output_type": "execute_result",
          "data": {
            "text/plain": [
              "8"
            ]
          },
          "metadata": {},
          "execution_count": 2
        }
      ],
      "source": [
        "3+5\n"
      ]
    },
    {
      "cell_type": "markdown",
      "source": [
        "#Subtração"
      ],
      "metadata": {
        "id": "hzYbzlI0hOOF"
      }
    },
    {
      "cell_type": "code",
      "source": [
        "9-4"
      ],
      "metadata": {
        "colab": {
          "base_uri": "https://localhost:8080/"
        },
        "id": "NHGmmFgJhLOE",
        "outputId": "287f7ff2-37c2-4136-a434-5b9f1bf40e73"
      },
      "execution_count": 3,
      "outputs": [
        {
          "output_type": "execute_result",
          "data": {
            "text/plain": [
              "5"
            ]
          },
          "metadata": {},
          "execution_count": 3
        }
      ]
    },
    {
      "cell_type": "markdown",
      "source": [
        "#Multiplicação"
      ],
      "metadata": {
        "id": "cDadssAehWT7"
      }
    },
    {
      "cell_type": "code",
      "source": [
        "5*6"
      ],
      "metadata": {
        "colab": {
          "base_uri": "https://localhost:8080/"
        },
        "id": "kT6VgWymhax8",
        "outputId": "b134b057-a32d-49dd-c032-b0dbd631636b"
      },
      "execution_count": 4,
      "outputs": [
        {
          "output_type": "execute_result",
          "data": {
            "text/plain": [
              "30"
            ]
          },
          "metadata": {},
          "execution_count": 4
        }
      ]
    },
    {
      "cell_type": "markdown",
      "source": [
        "#Divisão"
      ],
      "metadata": {
        "id": "aJrYSsLShjvB"
      }
    },
    {
      "cell_type": "code",
      "source": [
        "4/5"
      ],
      "metadata": {
        "colab": {
          "base_uri": "https://localhost:8080/"
        },
        "id": "HahbfAMKhnZ7",
        "outputId": "c4e4190f-d0f1-4684-d3b9-f3330c9f95ca"
      },
      "execution_count": 5,
      "outputs": [
        {
          "output_type": "execute_result",
          "data": {
            "text/plain": [
              "0.8"
            ]
          },
          "metadata": {},
          "execution_count": 5
        }
      ]
    },
    {
      "cell_type": "markdown",
      "source": [
        "#Igualdade"
      ],
      "metadata": {
        "id": "X96wK3hvh-pR"
      }
    },
    {
      "cell_type": "code",
      "source": [
        "a = 4\n",
        "a==4"
      ],
      "metadata": {
        "colab": {
          "base_uri": "https://localhost:8080/"
        },
        "id": "e8Tn4USaij-M",
        "outputId": "f1f975bf-f846-4fdf-bfbd-7febca27b78f"
      },
      "execution_count": 6,
      "outputs": [
        {
          "output_type": "execute_result",
          "data": {
            "text/plain": [
              "True"
            ]
          },
          "metadata": {},
          "execution_count": 6
        }
      ]
    },
    {
      "cell_type": "code",
      "source": [
        "a = 4\n",
        "a==3"
      ],
      "metadata": {
        "colab": {
          "base_uri": "https://localhost:8080/"
        },
        "id": "7NhhGpB3jDgE",
        "outputId": "63ba2dc0-c7a0-40d2-fdf3-b16c5458e493"
      },
      "execution_count": 7,
      "outputs": [
        {
          "output_type": "execute_result",
          "data": {
            "text/plain": [
              "False"
            ]
          },
          "metadata": {},
          "execution_count": 7
        }
      ]
    },
    {
      "cell_type": "code",
      "source": [
        "#Expoente"
      ],
      "metadata": {
        "id": "l2NsnOlHjLBH"
      },
      "execution_count": null,
      "outputs": []
    },
    {
      "cell_type": "code",
      "source": [
        "4**3"
      ],
      "metadata": {
        "colab": {
          "base_uri": "https://localhost:8080/"
        },
        "id": "LeXReF7bjV4Q",
        "outputId": "92f5ec83-3fe8-437e-e68f-6e803c283929"
      },
      "execution_count": 9,
      "outputs": [
        {
          "output_type": "execute_result",
          "data": {
            "text/plain": [
              "64"
            ]
          },
          "metadata": {},
          "execution_count": 9
        }
      ]
    },
    {
      "cell_type": "markdown",
      "source": [
        "#Maior, menor, maior ou igual e menor ou igual"
      ],
      "metadata": {
        "id": "7ckl1RUAj94y"
      }
    },
    {
      "cell_type": "code",
      "source": [
        "5>2"
      ],
      "metadata": {
        "colab": {
          "base_uri": "https://localhost:8080/"
        },
        "id": "5bDu3QyJjdAJ",
        "outputId": "642f8b1b-2df6-45c7-f82d-9e4200d0b9ea"
      },
      "execution_count": 10,
      "outputs": [
        {
          "output_type": "execute_result",
          "data": {
            "text/plain": [
              "True"
            ]
          },
          "metadata": {},
          "execution_count": 10
        }
      ]
    },
    {
      "cell_type": "code",
      "source": [
        "5>6"
      ],
      "metadata": {
        "colab": {
          "base_uri": "https://localhost:8080/"
        },
        "id": "vqVAeO4qktqP",
        "outputId": "3ee26d5c-5175-43ec-d852-ff0e7f74e98d"
      },
      "execution_count": 11,
      "outputs": [
        {
          "output_type": "execute_result",
          "data": {
            "text/plain": [
              "False"
            ]
          },
          "metadata": {},
          "execution_count": 11
        }
      ]
    },
    {
      "cell_type": "code",
      "source": [
        "5>=6"
      ],
      "metadata": {
        "colab": {
          "base_uri": "https://localhost:8080/"
        },
        "id": "8KowlwNumQbB",
        "outputId": "c14eb10b-0d11-443d-82f9-a2ae082b626c"
      },
      "execution_count": 12,
      "outputs": [
        {
          "output_type": "execute_result",
          "data": {
            "text/plain": [
              "False"
            ]
          },
          "metadata": {},
          "execution_count": 12
        }
      ]
    },
    {
      "cell_type": "code",
      "source": [
        "5-6+8+15*(6/2)+4-9"
      ],
      "metadata": {
        "colab": {
          "base_uri": "https://localhost:8080/"
        },
        "id": "EjdJBDW8mXdo",
        "outputId": "76d9ae8e-b89a-4204-c801-c2375f467fe6"
      },
      "execution_count": 14,
      "outputs": [
        {
          "output_type": "execute_result",
          "data": {
            "text/plain": [
              "47.0"
            ]
          },
          "metadata": {},
          "execution_count": 14
        }
      ]
    },
    {
      "cell_type": "markdown",
      "source": [
        "#Diferente"
      ],
      "metadata": {
        "id": "tlineNH8nYV9"
      }
    },
    {
      "cell_type": "code",
      "source": [
        "a!=4"
      ],
      "metadata": {
        "colab": {
          "base_uri": "https://localhost:8080/"
        },
        "id": "b-wvCdhmnkQR",
        "outputId": "ab870263-6d33-4546-85f4-f88e874530a9"
      },
      "execution_count": 15,
      "outputs": [
        {
          "output_type": "execute_result",
          "data": {
            "text/plain": [
              "False"
            ]
          },
          "metadata": {},
          "execution_count": 15
        }
      ]
    },
    {
      "cell_type": "markdown",
      "source": [
        "#Variaveis"
      ],
      "metadata": {
        "id": "eUssSiJ1nrq8"
      }
    },
    {
      "cell_type": "code",
      "source": [
        "nome = \"Cindy\"\n",
        "sobrenome = \"Castro\"\n",
        "\n",
        "print (\"meu nome é\" + \" \"+ nome + \" \" + \" \" +sobrenome)"
      ],
      "metadata": {
        "colab": {
          "base_uri": "https://localhost:8080/"
        },
        "id": "pSvaKYWUnuok",
        "outputId": "4f95ef9c-1e69-4fb3-cfe6-dec248c6683b"
      },
      "execution_count": 20,
      "outputs": [
        {
          "output_type": "stream",
          "name": "stdout",
          "text": [
            "meu nome é Cindy  Castro\n"
          ]
        }
      ]
    },
    {
      "cell_type": "code",
      "source": [
        "from re import\n"
      ],
      "metadata": {
        "colab": {
          "base_uri": "https://localhost:8080/",
          "height": 106
        },
        "id": "L6oxwzQPp36F",
        "outputId": "17d8d3aa-1162-4784-e2ee-ad8a0b5ce752"
      },
      "execution_count": 22,
      "outputs": [
        {
          "output_type": "error",
          "ename": "SyntaxError",
          "evalue": "invalid syntax (<ipython-input-22-dd1ae2813b69>, line 1)",
          "traceback": [
            "\u001b[0;36m  File \u001b[0;32m\"<ipython-input-22-dd1ae2813b69>\"\u001b[0;36m, line \u001b[0;32m1\u001b[0m\n\u001b[0;31m    from re import\u001b[0m\n\u001b[0m                   ^\u001b[0m\n\u001b[0;31mSyntaxError\u001b[0m\u001b[0;31m:\u001b[0m invalid syntax\n"
          ]
        }
      ]
    },
    {
      "cell_type": "code",
      "source": [
        "nome1= str(input(\"Digite seu nome: \"))\n",
        "sobrenome = str(input(\"Digite seu sobrenome: \"))\n",
        "\n",
        "print (\"meu nome é\" + \" \"+ nome + \" \" + \" \" +sobrenome)\n",
        "\n",
        "\n"
      ],
      "metadata": {
        "colab": {
          "base_uri": "https://localhost:8080/"
        },
        "id": "AAHc7JEmr8E8",
        "outputId": "24eb9d5e-e6b0-44e6-a55e-fb3242032d7d"
      },
      "execution_count": 23,
      "outputs": [
        {
          "output_type": "stream",
          "name": "stdout",
          "text": [
            "Digite seu nome: Cindy\n",
            "Digite seu sobrenome: Castro \n",
            "meu nome é Cindy  Castro \n"
          ]
        }
      ]
    },
    {
      "cell_type": "code",
      "source": [
        "print (nome)"
      ],
      "metadata": {
        "colab": {
          "base_uri": "https://localhost:8080/"
        },
        "id": "xBVwLH5btWDW",
        "outputId": "09cf2205-4c5f-43a2-af7b-106fcfcd2b19"
      },
      "execution_count": 24,
      "outputs": [
        {
          "output_type": "stream",
          "name": "stdout",
          "text": [
            "Cindy\n"
          ]
        }
      ]
    },
    {
      "cell_type": "code",
      "source": [
        "#entrada\n",
        "lado = int(input(\" digite o lado do quadrado: \"))\n",
        "\n",
        "#processamento\n",
        "area = lado*lado\n",
        "\n",
        "#saida\n",
        "print (\"a area do quadrado é igual a\", area)"
      ],
      "metadata": {
        "colab": {
          "base_uri": "https://localhost:8080/"
        },
        "id": "t3wM7phxtsao",
        "outputId": "c13d4b08-8b30-423f-8850-2fafa3092eef"
      },
      "execution_count": 32,
      "outputs": [
        {
          "output_type": "stream",
          "name": "stdout",
          "text": [
            " digite o lado do quadrado: 6\n",
            "a area do quadrado é igual a 36\n"
          ]
        }
      ]
    },
    {
      "cell_type": "code",
      "source": [
        "#entrada\n",
        "lado = float(input(\" digite o lado do quadrado: \"))\n",
        "\n",
        "#processamento\n",
        "area = lado*lado\n",
        "\n",
        "#saida\n",
        "print (\"a area do quadrado é igual a\", area)"
      ],
      "metadata": {
        "colab": {
          "base_uri": "https://localhost:8080/"
        },
        "id": "9qyKNmZkzaLz",
        "outputId": "15d1c3ab-5cba-4334-8a7a-b3b9171936ef"
      },
      "execution_count": 33,
      "outputs": [
        {
          "output_type": "stream",
          "name": "stdout",
          "text": [
            " digite o lado do quadrado: 4.5\n",
            "a area do quadrado é igual a 20.25\n"
          ]
        }
      ]
    }
  ]
}